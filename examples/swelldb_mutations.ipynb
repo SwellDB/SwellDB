{
 "cells": [
  {
   "cell_type": "markdown",
   "id": "38f56598d2e38e23",
   "metadata": {},
   "source": [
    "# Genetic Mutations\n",
    "In this example we will experiment with a dataset that contains genetic mutations. We will include this dataset as an external dataset to SwellDB. We'll then create a new table that contains the mutations and their associated diseases. We will also include a link to a study that describes the mutation and its effects."
   ]
  },
  {
   "cell_type": "code",
   "execution_count": 1,
   "id": "69bd60d3d233e1bf",
   "metadata": {},
   "outputs": [],
   "source": [
    "import os\n",
    "import logging\n",
    "\n",
    "import pandas as pd\n",
    "import pyarrow as pa\n",
    "import datafusion"
   ]
  },
  {
   "cell_type": "markdown",
   "id": "4fa4ec5d-2402-4545-b00d-ef8def0b0689",
   "metadata": {},
   "source": [
    "# Data Exploration - Pandas\n",
    "First, let's take a look at the dataset."
   ]
  },
  {
   "cell_type": "code",
   "execution_count": 2,
   "id": "eb7aa616-5508-4f39-8390-2f9f1a21a087",
   "metadata": {
    "ExecuteTime": {
     "end_time": "2025-04-25T20:30:09.766107Z",
     "start_time": "2025-04-25T20:30:09.761818Z"
    }
   },
   "outputs": [],
   "source": [
    "# Load as Pandas Dataframe\n",
    "df = pd.read_csv(\"../tests/test_files/mutations.csv\")"
   ]
  },
  {
   "cell_type": "code",
   "execution_count": 3,
   "id": "2e69255f-e81a-46bc-9888-567b0a0ab708",
   "metadata": {
    "ExecuteTime": {
     "end_time": "2025-04-25T20:30:10.242056Z",
     "start_time": "2025-04-25T20:30:10.238104Z"
    }
   },
   "outputs": [
    {
     "data": {
      "text/html": [
       "<div>\n",
       "<style scoped>\n",
       "    .dataframe tbody tr th:only-of-type {\n",
       "        vertical-align: middle;\n",
       "    }\n",
       "\n",
       "    .dataframe tbody tr th {\n",
       "        vertical-align: top;\n",
       "    }\n",
       "\n",
       "    .dataframe thead th {\n",
       "        text-align: right;\n",
       "    }\n",
       "</style>\n",
       "<table border=\"1\" class=\"dataframe\">\n",
       "  <thead>\n",
       "    <tr style=\"text-align: right;\">\n",
       "      <th></th>\n",
       "      <th>sample_id</th>\n",
       "      <th>mutation</th>\n",
       "    </tr>\n",
       "  </thead>\n",
       "  <tbody>\n",
       "    <tr>\n",
       "      <th>0</th>\n",
       "      <td>S001</td>\n",
       "      <td>BRCA1 c.68_69delAG</td>\n",
       "    </tr>\n",
       "    <tr>\n",
       "      <th>1</th>\n",
       "      <td>S002</td>\n",
       "      <td>CFTR p.F508del</td>\n",
       "    </tr>\n",
       "    <tr>\n",
       "      <th>2</th>\n",
       "      <td>S003</td>\n",
       "      <td>HTT CAG expansion</td>\n",
       "    </tr>\n",
       "    <tr>\n",
       "      <th>3</th>\n",
       "      <td>S004</td>\n",
       "      <td>LDLR c.1060+1G&gt;A</td>\n",
       "    </tr>\n",
       "    <tr>\n",
       "      <th>4</th>\n",
       "      <td>S005</td>\n",
       "      <td>TP53 p.R175H</td>\n",
       "    </tr>\n",
       "    <tr>\n",
       "      <th>5</th>\n",
       "      <td>S006</td>\n",
       "      <td>APOE ε4/ε4</td>\n",
       "    </tr>\n",
       "    <tr>\n",
       "      <th>6</th>\n",
       "      <td>S007</td>\n",
       "      <td>MYH7 p.R453C</td>\n",
       "    </tr>\n",
       "    <tr>\n",
       "      <th>7</th>\n",
       "      <td>S008</td>\n",
       "      <td>EGFR p.L858R</td>\n",
       "    </tr>\n",
       "    <tr>\n",
       "      <th>8</th>\n",
       "      <td>S009</td>\n",
       "      <td>KRAS p.G12D</td>\n",
       "    </tr>\n",
       "    <tr>\n",
       "      <th>9</th>\n",
       "      <td>S010</td>\n",
       "      <td>TTR V30M</td>\n",
       "    </tr>\n",
       "  </tbody>\n",
       "</table>\n",
       "</div>"
      ],
      "text/plain": [
       "  sample_id            mutation\n",
       "0      S001  BRCA1 c.68_69delAG\n",
       "1      S002      CFTR p.F508del\n",
       "2      S003   HTT CAG expansion\n",
       "3      S004    LDLR c.1060+1G>A\n",
       "4      S005        TP53 p.R175H\n",
       "5      S006          APOE ε4/ε4\n",
       "6      S007        MYH7 p.R453C\n",
       "7      S008        EGFR p.L858R\n",
       "8      S009         KRAS p.G12D\n",
       "9      S010            TTR V30M"
      ]
     },
     "execution_count": 3,
     "metadata": {},
     "output_type": "execute_result"
    }
   ],
   "source": [
    "df"
   ]
  },
  {
   "cell_type": "markdown",
   "id": "b5d0b495-7559-4f3a-ba70-b129dbf22f90",
   "metadata": {},
   "source": [
    "# Analytical Queries - DataFusion\n",
    "Let's load the dataset into DataFusion and run some queries."
   ]
  },
  {
   "cell_type": "code",
   "execution_count": 4,
   "id": "c2a2bad8-5498-4f11-86a2-3f0dbd523f86",
   "metadata": {
    "ExecuteTime": {
     "end_time": "2025-04-25T20:30:29.718568Z",
     "start_time": "2025-04-25T20:30:29.716111Z"
    }
   },
   "outputs": [],
   "source": [
    "sc = datafusion.SessionContext()"
   ]
  },
  {
   "cell_type": "code",
   "execution_count": 5,
   "id": "7910fd76-304c-4da4-a50f-f9410b766a8b",
   "metadata": {
    "ExecuteTime": {
     "end_time": "2025-04-25T20:30:30.301765Z",
     "start_time": "2025-04-25T20:30:30.299167Z"
    }
   },
   "outputs": [],
   "source": [
    "sc.register_csv(\"mutation\", \"../tests/test_files/mutations.csv\")"
   ]
  },
  {
   "cell_type": "code",
   "execution_count": 6,
   "id": "58587955-1ba6-42b9-ac23-c9f49e437884",
   "metadata": {
    "ExecuteTime": {
     "end_time": "2025-04-25T20:30:31.228823Z",
     "start_time": "2025-04-25T20:30:31.225159Z"
    }
   },
   "outputs": [
    {
     "data": {
      "text/html": [
       "\n",
       "        <style>\n",
       "            .expandable-container {\n",
       "                display: inline-block;\n",
       "                max-width: 200px;\n",
       "            }\n",
       "            .expandable {\n",
       "                white-space: nowrap;\n",
       "                overflow: hidden;\n",
       "                text-overflow: ellipsis;\n",
       "                display: block;\n",
       "            }\n",
       "            .full-text {\n",
       "                display: none;\n",
       "                white-space: normal;\n",
       "            }\n",
       "            .expand-btn {\n",
       "                cursor: pointer;\n",
       "                color: blue;\n",
       "                text-decoration: underline;\n",
       "                border: none;\n",
       "                background: none;\n",
       "                font-size: inherit;\n",
       "                display: block;\n",
       "                margin-top: 5px;\n",
       "            }\n",
       "        </style>\n",
       "\n",
       "        <div style=\"width: 100%; max-width: 1000px; max-height: 300px; overflow: auto; border: 1px solid #ccc;\">\n",
       "            <table style=\"border-collapse: collapse; min-width: 100%\">\n",
       "                <thead>\n",
       "<tr><th style='border: 1px solid black; padding: 8px; text-align: left; background-color: #f2f2f2; white-space: nowrap; min-width: fit-content; max-width: fit-content;'>sample_id</th><th style='border: 1px solid black; padding: 8px; text-align: left; background-color: #f2f2f2; white-space: nowrap; min-width: fit-content; max-width: fit-content;'>mutation</th></tr></thead><tbody>\n",
       "<tr><td style='border: 1px solid black; padding: 8px; text-align: left; white-space: nowrap;'>S001</td><td style='border: 1px solid black; padding: 8px; text-align: left; white-space: nowrap;'>BRCA1 c.68_69delAG</td></tr>\n",
       "<tr><td style='border: 1px solid black; padding: 8px; text-align: left; white-space: nowrap;'>S002</td><td style='border: 1px solid black; padding: 8px; text-align: left; white-space: nowrap;'>CFTR p.F508del</td></tr>\n",
       "<tr><td style='border: 1px solid black; padding: 8px; text-align: left; white-space: nowrap;'>S003</td><td style='border: 1px solid black; padding: 8px; text-align: left; white-space: nowrap;'>HTT CAG expansion</td></tr>\n",
       "<tr><td style='border: 1px solid black; padding: 8px; text-align: left; white-space: nowrap;'>S004</td><td style='border: 1px solid black; padding: 8px; text-align: left; white-space: nowrap;'>LDLR c.1060+1G>A</td></tr>\n",
       "<tr><td style='border: 1px solid black; padding: 8px; text-align: left; white-space: nowrap;'>S005</td><td style='border: 1px solid black; padding: 8px; text-align: left; white-space: nowrap;'>TP53 p.R175H</td></tr>\n",
       "<tr><td style='border: 1px solid black; padding: 8px; text-align: left; white-space: nowrap;'>S006</td><td style='border: 1px solid black; padding: 8px; text-align: left; white-space: nowrap;'>APOE ε4/ε4</td></tr>\n",
       "<tr><td style='border: 1px solid black; padding: 8px; text-align: left; white-space: nowrap;'>S007</td><td style='border: 1px solid black; padding: 8px; text-align: left; white-space: nowrap;'>MYH7 p.R453C</td></tr>\n",
       "<tr><td style='border: 1px solid black; padding: 8px; text-align: left; white-space: nowrap;'>S008</td><td style='border: 1px solid black; padding: 8px; text-align: left; white-space: nowrap;'>EGFR p.L858R</td></tr>\n",
       "<tr><td style='border: 1px solid black; padding: 8px; text-align: left; white-space: nowrap;'>S009</td><td style='border: 1px solid black; padding: 8px; text-align: left; white-space: nowrap;'>KRAS p.G12D</td></tr>\n",
       "<tr><td style='border: 1px solid black; padding: 8px; text-align: left; white-space: nowrap;'>S010</td><td style='border: 1px solid black; padding: 8px; text-align: left; white-space: nowrap;'>TTR V30M</td></tr>\n",
       "</tbody></table></div>\n",
       "\n",
       "            <script>\n",
       "            function toggleDataFrameCellText(table_uuid, row, col) {\n",
       "                var shortText = document.getElementById(table_uuid + \"-min-text-\" + row + \"-\" + col);\n",
       "                var fullText = document.getElementById(table_uuid + \"-full-text-\" + row + \"-\" + col);\n",
       "                var button = event.target;\n",
       "\n",
       "                if (fullText.style.display === \"none\") {\n",
       "                    shortText.style.display = \"none\";\n",
       "                    fullText.style.display = \"inline\";\n",
       "                    button.textContent = \"(less)\";\n",
       "                } else {\n",
       "                    shortText.style.display = \"inline\";\n",
       "                    fullText.style.display = \"none\";\n",
       "                    button.textContent = \"...\";\n",
       "                }\n",
       "            }\n",
       "            </script>\n",
       "        "
      ],
      "text/plain": [
       "DataFrame()\n",
       "+-----------+--------------------+\n",
       "| sample_id | mutation           |\n",
       "+-----------+--------------------+\n",
       "| S001      | BRCA1 c.68_69delAG |\n",
       "| S002      | CFTR p.F508del     |\n",
       "| S003      | HTT CAG expansion  |\n",
       "| S004      | LDLR c.1060+1G>A   |\n",
       "| S005      | TP53 p.R175H       |\n",
       "| S006      | APOE ε4/ε4         |\n",
       "| S007      | MYH7 p.R453C       |\n",
       "| S008      | EGFR p.L858R       |\n",
       "| S009      | KRAS p.G12D        |\n",
       "| S010      | TTR V30M           |\n",
       "+-----------+--------------------+"
      ]
     },
     "execution_count": 6,
     "metadata": {},
     "output_type": "execute_result"
    }
   ],
   "source": [
    "sc.sql(\n",
    "    \"\"\"\n",
    "    SELECT *\n",
    "    FROM mutation\n",
    "    \"\"\"\n",
    ")"
   ]
  },
  {
   "cell_type": "markdown",
   "id": "8f295c46-fc97-40da-b27b-d011146f1f83",
   "metadata": {},
   "source": [
    "## Querying beyond the available data\n",
    "Let's assume that we would like to run the following query on top of the mutations table."
   ]
  },
  {
   "cell_type": "markdown",
   "id": "4b123e11-8165-4429-b6c6-a01dd64e6f35",
   "metadata": {},
   "source": [
    "```sql\n",
    "SELECT sample_id, mutation, associated_disease, study_link\n",
    "FROM mutation\n",
    "```\n",
    "\n",
    "We can see that the two last columns — `associated_disease` and `study_link` — are not present in the dataset. This is where SwellDB comes into play. We can use SwellDB to generate these columns using the LLM and the search engine."
   ]
  },
  {
   "cell_type": "markdown",
   "id": "6d0d9266-1a41-4c00-8d09-a409275ca2bb",
   "metadata": {},
   "source": [
    "# SwellDB"
   ]
  },
  {
   "cell_type": "code",
   "execution_count": 7,
   "id": "ec580b85-be3b-4eb7-9100-c01396fb4324",
   "metadata": {
    "ExecuteTime": {
     "end_time": "2025-04-25T20:32:00.130181Z",
     "start_time": "2025-04-25T20:31:59.524118Z"
    }
   },
   "outputs": [],
   "source": [
    "from swelldb import SwellDB, OpenAILLM\n",
    "from swelldb.swelldb import Mode\n",
    "\n",
    "# Include some operators\n",
    "from swelldb.table_plan.table.physical.dataset_table import DatasetTable\n",
    "from swelldb.table_plan.table.physical.search_engine_table import SearchEngineTable"
   ]
  },
  {
   "cell_type": "code",
   "execution_count": 8,
   "id": "f6485e31-273c-4b0a-bce5-3d5e2a42b36c",
   "metadata": {
    "ExecuteTime": {
     "end_time": "2025-04-25T20:32:00.780117Z",
     "start_time": "2025-04-25T20:32:00.729212Z"
    }
   },
   "outputs": [],
   "source": [
    "swelldb: SwellDB = SwellDB(\n",
    "    llm=OpenAILLM(api_key=os.environ[\"OPENAI_API_KEY\"]), \n",
    "    serper_api_key=os.environ[\"SERPER_API_KEY\"])"
   ]
  },
  {
   "cell_type": "code",
   "execution_count": 11,
   "id": "68335d06-ea99-45cf-b584-5780a7b88c41",
   "metadata": {},
   "outputs": [],
   "source": [
    "tbl = (\n",
    "    swelldb.table_builder()\n",
    "    .set_table_name(\"mutations\")\n",
    "    .set_content(\"A table that contains genetic mutations\")\n",
    "    .set_schema(\"sample_id int, mutation str, associated_disease str, study_link str\")\n",
    "    .set_base_columns([\"mutation\"])\n",
    "    # Add external data sources\n",
    "    .add_csv_file(\"mutations\", \"../tests/test_files/mutations.csv\")\n",
    "    .set_table_gen_mode(Mode.OPERATORS)\n",
    "    .set_operators([DatasetTable, SearchEngineTable])\n",
    "    .set_chunk_size(20)\n",
    ").build()"
   ]
  },
  {
   "cell_type": "code",
   "execution_count": 12,
   "id": "e5c6e215-8132-45ac-b3cc-b67a19b79417",
   "metadata": {},
   "outputs": [
    {
     "name": "stdout",
     "output_type": "stream",
     "text": [
      "SearchEngineTable[schema=['study_link', 'associated_disease', 'mutation']\n",
      "--DatasetTable[schema=['mutation', 'sample_id']\"]\n"
     ]
    }
   ],
   "source": [
    "tbl.explain()"
   ]
  },
  {
   "cell_type": "code",
   "execution_count": 13,
   "id": "4a8ed193-5f81-4c37-b96d-ddb280a0c513",
   "metadata": {},
   "outputs": [],
   "source": [
    "table = tbl.materialize()"
   ]
  },
  {
   "cell_type": "code",
   "execution_count": 14,
   "id": "fb264929-07cb-4f8d-ac86-dbf8a94649d9",
   "metadata": {},
   "outputs": [],
   "source": [
    "sc.register_dataset(\"mutation_swell\", pa.dataset.dataset(table))"
   ]
  },
  {
   "cell_type": "code",
   "execution_count": 17,
   "id": "f9307e50-2ab4-4e07-b3b0-4fe9464f6d0c",
   "metadata": {},
   "outputs": [
    {
     "data": {
      "text/html": [
       "\n",
       "        <style>\n",
       "            .expandable-container {\n",
       "                display: inline-block;\n",
       "                max-width: 200px;\n",
       "            }\n",
       "            .expandable {\n",
       "                white-space: nowrap;\n",
       "                overflow: hidden;\n",
       "                text-overflow: ellipsis;\n",
       "                display: block;\n",
       "            }\n",
       "            .full-text {\n",
       "                display: none;\n",
       "                white-space: normal;\n",
       "            }\n",
       "            .expand-btn {\n",
       "                cursor: pointer;\n",
       "                color: blue;\n",
       "                text-decoration: underline;\n",
       "                border: none;\n",
       "                background: none;\n",
       "                font-size: inherit;\n",
       "                display: block;\n",
       "                margin-top: 5px;\n",
       "            }\n",
       "        </style>\n",
       "\n",
       "        <div style=\"width: 100%; max-width: 1000px; max-height: 300px; overflow: auto; border: 1px solid #ccc;\">\n",
       "            <table style=\"border-collapse: collapse; min-width: 100%\">\n",
       "                <thead>\n",
       "<tr><th style='border: 1px solid black; padding: 8px; text-align: left; background-color: #f2f2f2; white-space: nowrap; min-width: fit-content; max-width: fit-content;'>sample_id</th><th style='border: 1px solid black; padding: 8px; text-align: left; background-color: #f2f2f2; white-space: nowrap; min-width: fit-content; max-width: fit-content;'>mutation</th><th style='border: 1px solid black; padding: 8px; text-align: left; background-color: #f2f2f2; white-space: nowrap; min-width: fit-content; max-width: fit-content;'>study_link</th><th style='border: 1px solid black; padding: 8px; text-align: left; background-color: #f2f2f2; white-space: nowrap; min-width: fit-content; max-width: fit-content;'>associated_disease</th></tr></thead><tbody>\n",
       "<tr><td style='border: 1px solid black; padding: 8px; text-align: left; white-space: nowrap;'>S001</td><td style='border: 1px solid black; padding: 8px; text-align: left; white-space: nowrap;'>BRCA1 c.68_69delAG</td>\n",
       "                            <td style='border: 1px solid black; padding: 8px; text-align: left; white-space: nowrap;'>\n",
       "                                <div class=\"expandable-container\">\n",
       "                                    <span class=\"expandable\" id=\"237099cb-5484-4787-84e2-e04221143ec8-min-text-1-2\">https://www.ncbi.nlm.nih.</span>\n",
       "                                    <span class=\"full-text\" id=\"237099cb-5484-4787-84e2-e04221143ec8-full-text-1-2\">https://www.ncbi.nlm.nih.gov/clinvar/variation/17662/</span>\n",
       "                                    <button class=\"expand-btn\" onclick=\"toggleDataFrameCellText('237099cb-5484-4787-84e2-e04221143ec8',1,2)\">...</button>\n",
       "                                </div>\n",
       "                            </td>\n",
       "                            <td style='border: 1px solid black; padding: 8px; text-align: left; white-space: nowrap;'>\n",
       "                                <div class=\"expandable-container\">\n",
       "                                    <span class=\"expandable\" id=\"237099cb-5484-4787-84e2-e04221143ec8-min-text-1-3\">Hereditary breast and ova</span>\n",
       "                                    <span class=\"full-text\" id=\"237099cb-5484-4787-84e2-e04221143ec8-full-text-1-3\">Hereditary breast and ovarian cancer</span>\n",
       "                                    <button class=\"expand-btn\" onclick=\"toggleDataFrameCellText('237099cb-5484-4787-84e2-e04221143ec8',1,3)\">...</button>\n",
       "                                </div>\n",
       "                            </td></tr>\n",
       "<tr><td style='border: 1px solid black; padding: 8px; text-align: left; white-space: nowrap;'>S002</td><td style='border: 1px solid black; padding: 8px; text-align: left; white-space: nowrap;'>CFTR p.F508del</td>\n",
       "                            <td style='border: 1px solid black; padding: 8px; text-align: left; white-space: nowrap;'>\n",
       "                                <div class=\"expandable-container\">\n",
       "                                    <span class=\"expandable\" id=\"237099cb-5484-4787-84e2-e04221143ec8-min-text-2-2\">https://www.ncbi.nlm.nih.</span>\n",
       "                                    <span class=\"full-text\" id=\"237099cb-5484-4787-84e2-e04221143ec8-full-text-2-2\">https://www.ncbi.nlm.nih.gov/clinvar/RCV000007523/</span>\n",
       "                                    <button class=\"expand-btn\" onclick=\"toggleDataFrameCellText('237099cb-5484-4787-84e2-e04221143ec8',2,2)\">...</button>\n",
       "                                </div>\n",
       "                            </td><td style='border: 1px solid black; padding: 8px; text-align: left; white-space: nowrap;'>Cystic fibrosis</td></tr>\n",
       "<tr><td style='border: 1px solid black; padding: 8px; text-align: left; white-space: nowrap;'>S003</td><td style='border: 1px solid black; padding: 8px; text-align: left; white-space: nowrap;'>HTT CAG expansion</td>\n",
       "                            <td style='border: 1px solid black; padding: 8px; text-align: left; white-space: nowrap;'>\n",
       "                                <div class=\"expandable-container\">\n",
       "                                    <span class=\"expandable\" id=\"237099cb-5484-4787-84e2-e04221143ec8-min-text-3-2\">https://pmc.ncbi.nlm.nih.</span>\n",
       "                                    <span class=\"full-text\" id=\"237099cb-5484-4787-84e2-e04221143ec8-full-text-3-2\">https://pmc.ncbi.nlm.nih.gov/articles/PMC2668007/</span>\n",
       "                                    <button class=\"expand-btn\" onclick=\"toggleDataFrameCellText('237099cb-5484-4787-84e2-e04221143ec8',3,2)\">...</button>\n",
       "                                </div>\n",
       "                            </td><td style='border: 1px solid black; padding: 8px; text-align: left; white-space: nowrap;'>Huntington's disease</td></tr>\n",
       "<tr><td style='border: 1px solid black; padding: 8px; text-align: left; white-space: nowrap;'>S004</td><td style='border: 1px solid black; padding: 8px; text-align: left; white-space: nowrap;'>LDLR c.1060+1G>A</td>\n",
       "                            <td style='border: 1px solid black; padding: 8px; text-align: left; white-space: nowrap;'>\n",
       "                                <div class=\"expandable-container\">\n",
       "                                    <span class=\"expandable\" id=\"237099cb-5484-4787-84e2-e04221143ec8-min-text-4-2\">https://www.ncbi.nlm.nih.</span>\n",
       "                                    <span class=\"full-text\" id=\"237099cb-5484-4787-84e2-e04221143ec8-full-text-4-2\">https://www.ncbi.nlm.nih.gov/clinvar/RCV000238168/</span>\n",
       "                                    <button class=\"expand-btn\" onclick=\"toggleDataFrameCellText('237099cb-5484-4787-84e2-e04221143ec8',4,2)\">...</button>\n",
       "                                </div>\n",
       "                            </td>\n",
       "                            <td style='border: 1px solid black; padding: 8px; text-align: left; white-space: nowrap;'>\n",
       "                                <div class=\"expandable-container\">\n",
       "                                    <span class=\"expandable\" id=\"237099cb-5484-4787-84e2-e04221143ec8-min-text-4-3\">Familial hypercholesterol</span>\n",
       "                                    <span class=\"full-text\" id=\"237099cb-5484-4787-84e2-e04221143ec8-full-text-4-3\">Familial hypercholesterolemia</span>\n",
       "                                    <button class=\"expand-btn\" onclick=\"toggleDataFrameCellText('237099cb-5484-4787-84e2-e04221143ec8',4,3)\">...</button>\n",
       "                                </div>\n",
       "                            </td></tr>\n",
       "<tr><td style='border: 1px solid black; padding: 8px; text-align: left; white-space: nowrap;'>S005</td><td style='border: 1px solid black; padding: 8px; text-align: left; white-space: nowrap;'>TP53 p.R175H</td>\n",
       "                            <td style='border: 1px solid black; padding: 8px; text-align: left; white-space: nowrap;'>\n",
       "                                <div class=\"expandable-container\">\n",
       "                                    <span class=\"expandable\" id=\"237099cb-5484-4787-84e2-e04221143ec8-min-text-5-2\">https://www.ncbi.nlm.nih.</span>\n",
       "                                    <span class=\"full-text\" id=\"237099cb-5484-4787-84e2-e04221143ec8-full-text-5-2\">https://www.ncbi.nlm.nih.gov/clinvar/variation/VCV000012374</span>\n",
       "                                    <button class=\"expand-btn\" onclick=\"toggleDataFrameCellText('237099cb-5484-4787-84e2-e04221143ec8',5,2)\">...</button>\n",
       "                                </div>\n",
       "                            </td><td style='border: 1px solid black; padding: 8px; text-align: left; white-space: nowrap;'>Various cancers</td></tr>\n",
       "<tr><td style='border: 1px solid black; padding: 8px; text-align: left; white-space: nowrap;'>S006</td><td style='border: 1px solid black; padding: 8px; text-align: left; white-space: nowrap;'>APOE ε4/ε4</td>\n",
       "                            <td style='border: 1px solid black; padding: 8px; text-align: left; white-space: nowrap;'>\n",
       "                                <div class=\"expandable-container\">\n",
       "                                    <span class=\"expandable\" id=\"237099cb-5484-4787-84e2-e04221143ec8-min-text-6-2\">https://www.nih.gov/news-</span>\n",
       "                                    <span class=\"full-text\" id=\"237099cb-5484-4787-84e2-e04221143ec8-full-text-6-2\">https://www.nih.gov/news-events/nih-research-matters/study-defines-major-genetic-form-alzheimer-s-disease</span>\n",
       "                                    <button class=\"expand-btn\" onclick=\"toggleDataFrameCellText('237099cb-5484-4787-84e2-e04221143ec8',6,2)\">...</button>\n",
       "                                </div>\n",
       "                            </td><td style='border: 1px solid black; padding: 8px; text-align: left; white-space: nowrap;'>Alzheimer's disease</td></tr>\n",
       "<tr><td style='border: 1px solid black; padding: 8px; text-align: left; white-space: nowrap;'>S007</td><td style='border: 1px solid black; padding: 8px; text-align: left; white-space: nowrap;'>MYH7 p.R453C</td>\n",
       "                            <td style='border: 1px solid black; padding: 8px; text-align: left; white-space: nowrap;'>\n",
       "                                <div class=\"expandable-container\">\n",
       "                                    <span class=\"expandable\" id=\"237099cb-5484-4787-84e2-e04221143ec8-min-text-7-2\">https://www.ncbi.nlm.nih.</span>\n",
       "                                    <span class=\"full-text\" id=\"237099cb-5484-4787-84e2-e04221143ec8-full-text-7-2\">https://www.ncbi.nlm.nih.gov/clinvar/RCV000230258/</span>\n",
       "                                    <button class=\"expand-btn\" onclick=\"toggleDataFrameCellText('237099cb-5484-4787-84e2-e04221143ec8',7,2)\">...</button>\n",
       "                                </div>\n",
       "                            </td>\n",
       "                            <td style='border: 1px solid black; padding: 8px; text-align: left; white-space: nowrap;'>\n",
       "                                <div class=\"expandable-container\">\n",
       "                                    <span class=\"expandable\" id=\"237099cb-5484-4787-84e2-e04221143ec8-min-text-7-3\">Hypertrophic cardiomyopat</span>\n",
       "                                    <span class=\"full-text\" id=\"237099cb-5484-4787-84e2-e04221143ec8-full-text-7-3\">Hypertrophic cardiomyopathy</span>\n",
       "                                    <button class=\"expand-btn\" onclick=\"toggleDataFrameCellText('237099cb-5484-4787-84e2-e04221143ec8',7,3)\">...</button>\n",
       "                                </div>\n",
       "                            </td></tr>\n",
       "<tr><td style='border: 1px solid black; padding: 8px; text-align: left; white-space: nowrap;'>S008</td><td style='border: 1px solid black; padding: 8px; text-align: left; white-space: nowrap;'>EGFR p.L858R</td>\n",
       "                            <td style='border: 1px solid black; padding: 8px; text-align: left; white-space: nowrap;'>\n",
       "                                <div class=\"expandable-container\">\n",
       "                                    <span class=\"expandable\" id=\"237099cb-5484-4787-84e2-e04221143ec8-min-text-8-2\">https://pmc.ncbi.nlm.nih.</span>\n",
       "                                    <span class=\"full-text\" id=\"237099cb-5484-4787-84e2-e04221143ec8-full-text-8-2\">https://pmc.ncbi.nlm.nih.gov/articles/PMC11632430/</span>\n",
       "                                    <button class=\"expand-btn\" onclick=\"toggleDataFrameCellText('237099cb-5484-4787-84e2-e04221143ec8',8,2)\">...</button>\n",
       "                                </div>\n",
       "                            </td><td style='border: 1px solid black; padding: 8px; text-align: left; white-space: nowrap;'>Lung cancer</td></tr>\n",
       "<tr><td style='border: 1px solid black; padding: 8px; text-align: left; white-space: nowrap;'>S009</td><td style='border: 1px solid black; padding: 8px; text-align: left; white-space: nowrap;'>KRAS p.G12D</td>\n",
       "                            <td style='border: 1px solid black; padding: 8px; text-align: left; white-space: nowrap;'>\n",
       "                                <div class=\"expandable-container\">\n",
       "                                    <span class=\"expandable\" id=\"237099cb-5484-4787-84e2-e04221143ec8-min-text-9-2\">https://pmc.ncbi.nlm.nih.</span>\n",
       "                                    <span class=\"full-text\" id=\"237099cb-5484-4787-84e2-e04221143ec8-full-text-9-2\">https://pmc.ncbi.nlm.nih.gov/articles/PMC9562007/</span>\n",
       "                                    <button class=\"expand-btn\" onclick=\"toggleDataFrameCellText('237099cb-5484-4787-84e2-e04221143ec8',9,2)\">...</button>\n",
       "                                </div>\n",
       "                            </td><td style='border: 1px solid black; padding: 8px; text-align: left; white-space: nowrap;'>Pancreatic cancer</td></tr>\n",
       "<tr><td style='border: 1px solid black; padding: 8px; text-align: left; white-space: nowrap;'>S010</td><td style='border: 1px solid black; padding: 8px; text-align: left; white-space: nowrap;'>TTR V30M</td>\n",
       "                            <td style='border: 1px solid black; padding: 8px; text-align: left; white-space: nowrap;'>\n",
       "                                <div class=\"expandable-container\">\n",
       "                                    <span class=\"expandable\" id=\"237099cb-5484-4787-84e2-e04221143ec8-min-text-10-2\">https://arci.org/about-am</span>\n",
       "                                    <span class=\"full-text\" id=\"237099cb-5484-4787-84e2-e04221143ec8-full-text-10-2\">https://arci.org/about-amyloidosis/hereditary-attr-amyloidosis/</span>\n",
       "                                    <button class=\"expand-btn\" onclick=\"toggleDataFrameCellText('237099cb-5484-4787-84e2-e04221143ec8',10,2)\">...</button>\n",
       "                                </div>\n",
       "                            </td>\n",
       "                            <td style='border: 1px solid black; padding: 8px; text-align: left; white-space: nowrap;'>\n",
       "                                <div class=\"expandable-container\">\n",
       "                                    <span class=\"expandable\" id=\"237099cb-5484-4787-84e2-e04221143ec8-min-text-10-3\">Hereditary ATTR amyloidos</span>\n",
       "                                    <span class=\"full-text\" id=\"237099cb-5484-4787-84e2-e04221143ec8-full-text-10-3\">Hereditary ATTR amyloidosis</span>\n",
       "                                    <button class=\"expand-btn\" onclick=\"toggleDataFrameCellText('237099cb-5484-4787-84e2-e04221143ec8',10,3)\">...</button>\n",
       "                                </div>\n",
       "                            </td></tr>\n",
       "</tbody></table></div>\n",
       "\n",
       "            <script>\n",
       "            function toggleDataFrameCellText(table_uuid, row, col) {\n",
       "                var shortText = document.getElementById(table_uuid + \"-min-text-\" + row + \"-\" + col);\n",
       "                var fullText = document.getElementById(table_uuid + \"-full-text-\" + row + \"-\" + col);\n",
       "                var button = event.target;\n",
       "\n",
       "                if (fullText.style.display === \"none\") {\n",
       "                    shortText.style.display = \"none\";\n",
       "                    fullText.style.display = \"inline\";\n",
       "                    button.textContent = \"(less)\";\n",
       "                } else {\n",
       "                    shortText.style.display = \"inline\";\n",
       "                    fullText.style.display = \"none\";\n",
       "                    button.textContent = \"...\";\n",
       "                }\n",
       "            }\n",
       "            </script>\n",
       "        "
      ],
      "text/plain": [
       "DataFrame()\n",
       "+-----------+--------------------+-----------------------------------------------------------------------------------------------------------+--------------------------------------+\n",
       "| sample_id | mutation           | study_link                                                                                                | associated_disease                   |\n",
       "+-----------+--------------------+-----------------------------------------------------------------------------------------------------------+--------------------------------------+\n",
       "| S001      | BRCA1 c.68_69delAG | https://www.ncbi.nlm.nih.gov/clinvar/variation/17662/                                                     | Hereditary breast and ovarian cancer |\n",
       "| S002      | CFTR p.F508del     | https://www.ncbi.nlm.nih.gov/clinvar/RCV000007523/                                                        | Cystic fibrosis                      |\n",
       "| S003      | HTT CAG expansion  | https://pmc.ncbi.nlm.nih.gov/articles/PMC2668007/                                                         | Huntington's disease                 |\n",
       "| S004      | LDLR c.1060+1G>A   | https://www.ncbi.nlm.nih.gov/clinvar/RCV000238168/                                                        | Familial hypercholesterolemia        |\n",
       "| S005      | TP53 p.R175H       | https://www.ncbi.nlm.nih.gov/clinvar/variation/VCV000012374                                               | Various cancers                      |\n",
       "| S006      | APOE ε4/ε4         | https://www.nih.gov/news-events/nih-research-matters/study-defines-major-genetic-form-alzheimer-s-disease | Alzheimer's disease                  |\n",
       "| S007      | MYH7 p.R453C       | https://www.ncbi.nlm.nih.gov/clinvar/RCV000230258/                                                        | Hypertrophic cardiomyopathy          |\n",
       "| S008      | EGFR p.L858R       | https://pmc.ncbi.nlm.nih.gov/articles/PMC11632430/                                                        | Lung cancer                          |\n",
       "| S009      | KRAS p.G12D        | https://pmc.ncbi.nlm.nih.gov/articles/PMC9562007/                                                         | Pancreatic cancer                    |\n",
       "| S010      | TTR V30M           | https://arci.org/about-amyloidosis/hereditary-attr-amyloidosis/                                           | Hereditary ATTR amyloidosis          |\n",
       "+-----------+--------------------+-----------------------------------------------------------------------------------------------------------+--------------------------------------+"
      ]
     },
     "execution_count": 17,
     "metadata": {},
     "output_type": "execute_result"
    }
   ],
   "source": [
    "sc.sql(\"\"\" \n",
    "SELECT sample_id, mutation, study_link, associated_disease\n",
    "FROM mutation_swell\n",
    "\"\"\")"
   ]
  }
 ],
 "metadata": {
  "kernelspec": {
   "display_name": "Python 3 (ipykernel)",
   "language": "python",
   "name": "python3"
  },
  "language_info": {
   "codemirror_mode": {
    "name": "ipython",
    "version": 3
   },
   "file_extension": ".py",
   "mimetype": "text/x-python",
   "name": "python",
   "nbconvert_exporter": "python",
   "pygments_lexer": "ipython3",
   "version": "3.11.12"
  }
 },
 "nbformat": 4,
 "nbformat_minor": 5
}
