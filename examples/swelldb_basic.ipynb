{
 "cells": [
  {
   "cell_type": "markdown",
   "id": "6d0d9266-1a41-4c00-8d09-a409275ca2bb",
   "metadata": {},
   "source": [
    "# US States\n",
    "## Let's generate a table containing all the US states"
   ]
  },
  {
   "cell_type": "code",
   "execution_count": 28,
   "id": "ec580b85-be3b-4eb7-9100-c01396fb4324",
   "metadata": {},
   "outputs": [],
   "source": [
    "import os\n",
    "\n",
    "from swelldb import SwellDB, OpenAILLM"
   ]
  },
  {
   "cell_type": "code",
   "execution_count": 29,
   "id": "f6485e31-273c-4b0a-bce5-3d5e2a42b36c",
   "metadata": {},
   "outputs": [],
   "source": [
    "swelldb: SwellDB = SwellDB(\n",
    "    llm=OpenAILLM(api_key=os.environ[\"OPENAI_API_KEY\"]), \n",
    "    serper_api_key=os.environ[\"SERPER_API_KEY\"])"
   ]
  },
  {
   "cell_type": "code",
   "execution_count": 30,
   "id": "68335d06-ea99-45cf-b584-5780a7b88c41",
   "metadata": {},
   "outputs": [],
   "source": [
    "tbl = (\n",
    "    swelldb.table_builder()\n",
    "    .set_table_name(\"us_states\")\n",
    "    .set_content(\"A table that contains all the US states\")\n",
    "    .set_schema(\"state_name str, region str\")\n",
    "    .set_base_columns([\"state_name\"])\n",
    ").build()"
   ]
  },
  {
   "cell_type": "code",
   "execution_count": 31,
   "id": "e5c6e215-8132-45ac-b3cc-b67a19b79417",
   "metadata": {},
   "outputs": [
    {
     "name": "stdout",
     "output_type": "stream",
     "text": [
      "LLMTable[schema=['state_name', 'region']\n"
     ]
    }
   ],
   "source": [
    "tbl.explain()"
   ]
  },
  {
   "cell_type": "code",
   "execution_count": 32,
   "id": "4a8ed193-5f81-4c37-b96d-ddb280a0c513",
   "metadata": {},
   "outputs": [],
   "source": [
    "table = tbl.materialize()"
   ]
  },
  {
   "cell_type": "code",
   "execution_count": 34,
   "id": "fb264929-07cb-4f8d-ac86-dbf8a94649d9",
   "metadata": {},
   "outputs": [
    {
     "name": "stdout",
     "output_type": "stream",
     "text": [
      "    state_name     region\n",
      "0      Alabama      South\n",
      "1       Alaska       West\n",
      "2      Arizona       West\n",
      "3     Arkansas      South\n",
      "4   California       West\n",
      "5     Colorado       West\n",
      "6  Connecticut  Northeast\n",
      "7     Delaware      South\n",
      "8      Florida      South\n",
      "9      Georgia      South\n"
     ]
    }
   ],
   "source": [
    "print(table.to_pandas()[:10])"
   ]
  },
  {
   "cell_type": "markdown",
   "id": "abd08fe7-1ffc-46d5-b573-a892021a2410",
   "metadata": {},
   "source": [
    "## Let's add some SQL"
   ]
  },
  {
   "cell_type": "code",
   "execution_count": 41,
   "id": "c06a9ed7-c980-45da-94d7-3f1bdfd5cf4e",
   "metadata": {},
   "outputs": [
    {
     "name": "stdout",
     "output_type": "stream",
     "text": [
      "DataFrame()\n",
      "+------------+--------+\n",
      "| state_name | region |\n",
      "+------------+--------+\n",
      "| Alabama    | South  |\n",
      "| Arkansas   | South  |\n",
      "| Delaware   | South  |\n",
      "| Florida    | South  |\n",
      "| Georgia    | South  |\n",
      "+------------+--------+\n",
      "DataFrame()\n",
      "+----------+-----------+\n",
      "| count(*) | region    |\n",
      "+----------+-----------+\n",
      "| 12       | Midwest   |\n",
      "| 9        | Northeast |\n",
      "| 16       | South     |\n",
      "| 13       | West      |\n",
      "+----------+-----------+\n"
     ]
    }
   ],
   "source": [
    "import datafusion\n",
    "import pyarrow as pa\n",
    "\n",
    "sc = datafusion.SessionContext()\n",
    "sc.register_dataset(\"us_states\", pa.dataset.dataset(table))\n",
    "\n",
    "print(sc.sql(\"SELECT * FROM us_states where region = 'South' LIMIT 5\"))\n",
    "print(sc.sql(\"SELECT COUNT(*), region FROM us_states GROUP BY region\"))"
   ]
  }
 ],
 "metadata": {
  "kernelspec": {
   "display_name": "Python 3 (ipykernel)",
   "language": "python",
   "name": "python3"
  },
  "language_info": {
   "codemirror_mode": {
    "name": "ipython",
    "version": 3
   },
   "file_extension": ".py",
   "mimetype": "text/x-python",
   "name": "python",
   "nbconvert_exporter": "python",
   "pygments_lexer": "ipython3",
   "version": "3.11.12"
  }
 },
 "nbformat": 4,
 "nbformat_minor": 5
}
